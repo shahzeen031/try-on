<<<<<<< HEAD
{
 "cells": [
  {
   "cell_type": "code",
   "execution_count": 1,
   "id": "571a734d",
   "metadata": {},
   "outputs": [
    {
     "name": "stdout",
     "output_type": "stream",
     "text": [
      "306\n",
      "306\n",
      "301\n",
      "299\n",
      "297\n",
      "292\n",
      "291\n",
      "291\n",
      "286\n",
      "276\n",
      "272\n",
      "270\n",
      "269\n",
      "269\n",
      "259\n",
      "258\n",
      "257\n",
      "257\n",
      "255\n",
      "259\n",
      "257\n",
      "254\n",
      "250\n",
      "248\n",
      "248\n",
      "246\n",
      "244\n",
      "242\n",
      "239\n",
      "233\n",
      "233\n",
      "233\n",
      "235\n",
      "235\n",
      "236\n",
      "235\n",
      "235\n",
      "235\n",
      "236\n",
      "233\n",
      "235\n",
      "236\n",
      "236\n",
      "235\n",
      "236\n",
      "237\n",
      "239\n",
      "239\n",
      "240\n",
      "243\n",
      "243\n",
      "244\n",
      "246\n",
      "246\n",
      "246\n",
      "246\n",
      "247\n",
      "253\n",
      "257\n",
      "262\n",
      "265\n",
      "269\n",
      "272\n",
      "275\n",
      "279\n",
      "283\n",
      "288\n",
      "288\n",
      "295\n",
      "301\n",
      "305\n",
      "309\n",
      "310\n",
      "309\n",
      "313\n",
      "316\n",
      "323\n",
      "330\n",
      "339\n",
      "336\n",
      "338\n",
      "341\n",
      "347\n",
      "352\n",
      "357\n",
      "367\n",
      "369\n",
      "375\n",
      "378\n",
      "375\n",
      "379\n",
      "380\n",
      "379\n",
      "389\n",
      "398\n",
      "408\n",
      "413\n",
      "415\n",
      "408\n",
      "404\n",
      "412\n",
      "413\n",
      "408\n",
      "407\n",
      "413\n",
      "413\n",
      "415\n",
      "412\n",
      "411\n",
      "411\n",
      "412\n",
      "411\n",
      "404\n",
      "404\n",
      "401\n",
      "400\n",
      "393\n",
      "389\n",
      "385\n",
      "380\n",
      "376\n",
      "369\n",
      "365\n",
      "356\n",
      "346\n",
      "338\n",
      "331\n",
      "321\n",
      "321\n",
      "312\n",
      "310\n",
      "309\n",
      "305\n",
      "306\n"
     ]
    },
    {
     "ename": "KeyboardInterrupt",
     "evalue": "",
     "output_type": "error",
     "traceback": [
      "\u001b[1;31m---------------------------------------------------------------------------\u001b[0m",
      "\u001b[1;31mKeyboardInterrupt\u001b[0m                         Traceback (most recent call last)",
      "\u001b[1;32m<ipython-input-1-c5c644516ac1>\u001b[0m in \u001b[0;36m<module>\u001b[1;34m\u001b[0m\n\u001b[0;32m     24\u001b[0m \u001b[1;32mwhile\u001b[0m \u001b[0mcap\u001b[0m\u001b[1;33m.\u001b[0m\u001b[0misOpened\u001b[0m\u001b[1;33m(\u001b[0m\u001b[1;33m)\u001b[0m\u001b[1;33m:\u001b[0m\u001b[1;33m\u001b[0m\u001b[1;33m\u001b[0m\u001b[0m\n\u001b[0;32m     25\u001b[0m     \u001b[0msuccess\u001b[0m\u001b[1;33m,\u001b[0m \u001b[0mimg\u001b[0m \u001b[1;33m=\u001b[0m \u001b[0mcap\u001b[0m\u001b[1;33m.\u001b[0m\u001b[0mread\u001b[0m\u001b[1;33m(\u001b[0m\u001b[1;33m)\u001b[0m\u001b[1;33m\u001b[0m\u001b[1;33m\u001b[0m\u001b[0m\n\u001b[1;32m---> 26\u001b[1;33m     \u001b[0mimg\u001b[0m \u001b[1;33m=\u001b[0m \u001b[0mdetector\u001b[0m\u001b[1;33m.\u001b[0m\u001b[0mfindPose\u001b[0m\u001b[1;33m(\u001b[0m\u001b[0mimg\u001b[0m\u001b[1;33m)\u001b[0m\u001b[1;33m\u001b[0m\u001b[1;33m\u001b[0m\u001b[0m\n\u001b[0m\u001b[0;32m     27\u001b[0m     \u001b[1;31m# img = cv2.flip(img,1)\u001b[0m\u001b[1;33m\u001b[0m\u001b[1;33m\u001b[0m\u001b[1;33m\u001b[0m\u001b[0m\n\u001b[0;32m     28\u001b[0m     \u001b[0mlmList\u001b[0m\u001b[1;33m,\u001b[0m \u001b[0mbboxInfo\u001b[0m \u001b[1;33m=\u001b[0m \u001b[0mdetector\u001b[0m\u001b[1;33m.\u001b[0m\u001b[0mfindPosition\u001b[0m\u001b[1;33m(\u001b[0m\u001b[0mimg\u001b[0m\u001b[1;33m,\u001b[0m \u001b[0mbboxWithHands\u001b[0m\u001b[1;33m=\u001b[0m\u001b[1;32mFalse\u001b[0m\u001b[1;33m,\u001b[0m \u001b[0mdraw\u001b[0m\u001b[1;33m=\u001b[0m\u001b[1;32mFalse\u001b[0m\u001b[1;33m)\u001b[0m\u001b[1;33m\u001b[0m\u001b[1;33m\u001b[0m\u001b[0m\n",
      "\u001b[1;32m~\\anaconda3\\lib\\site-packages\\cvzone\\PoseModule.py\u001b[0m in \u001b[0;36mfindPose\u001b[1;34m(self, img, draw)\u001b[0m\n\u001b[0;32m     47\u001b[0m         \u001b[1;32mif\u001b[0m \u001b[0mself\u001b[0m\u001b[1;33m.\u001b[0m\u001b[0mresults\u001b[0m\u001b[1;33m.\u001b[0m\u001b[0mpose_landmarks\u001b[0m\u001b[1;33m:\u001b[0m\u001b[1;33m\u001b[0m\u001b[1;33m\u001b[0m\u001b[0m\n\u001b[0;32m     48\u001b[0m             \u001b[1;32mif\u001b[0m \u001b[0mdraw\u001b[0m\u001b[1;33m:\u001b[0m\u001b[1;33m\u001b[0m\u001b[1;33m\u001b[0m\u001b[0m\n\u001b[1;32m---> 49\u001b[1;33m                 self.mpDraw.draw_landmarks(img, self.results.pose_landmarks,\n\u001b[0m\u001b[0;32m     50\u001b[0m                                            self.mpPose.POSE_CONNECTIONS)\n\u001b[0;32m     51\u001b[0m         \u001b[1;32mreturn\u001b[0m \u001b[0mimg\u001b[0m\u001b[1;33m\u001b[0m\u001b[1;33m\u001b[0m\u001b[0m\n",
      "\u001b[1;32m~\\AppData\\Roaming\\Python\\Python38\\site-packages\\mediapipe\\python\\solutions\\drawing_utils.py\u001b[0m in \u001b[0;36mdraw_landmarks\u001b[1;34m(image, landmark_list, connections, landmark_drawing_spec, connection_drawing_spec)\u001b[0m\n\u001b[0;32m    164\u001b[0m                          f'from landmark #{start_idx} to landmark #{end_idx}.')\n\u001b[0;32m    165\u001b[0m       \u001b[1;32mif\u001b[0m \u001b[0mstart_idx\u001b[0m \u001b[1;32min\u001b[0m \u001b[0midx_to_coordinates\u001b[0m \u001b[1;32mand\u001b[0m \u001b[0mend_idx\u001b[0m \u001b[1;32min\u001b[0m \u001b[0midx_to_coordinates\u001b[0m\u001b[1;33m:\u001b[0m\u001b[1;33m\u001b[0m\u001b[1;33m\u001b[0m\u001b[0m\n\u001b[1;32m--> 166\u001b[1;33m         cv2.line(image, idx_to_coordinates[start_idx],\n\u001b[0m\u001b[0;32m    167\u001b[0m                  \u001b[0midx_to_coordinates\u001b[0m\u001b[1;33m[\u001b[0m\u001b[0mend_idx\u001b[0m\u001b[1;33m]\u001b[0m\u001b[1;33m,\u001b[0m \u001b[0mconnection_drawing_spec\u001b[0m\u001b[1;33m.\u001b[0m\u001b[0mcolor\u001b[0m\u001b[1;33m,\u001b[0m\u001b[1;33m\u001b[0m\u001b[1;33m\u001b[0m\u001b[0m\n\u001b[0;32m    168\u001b[0m                  connection_drawing_spec.thickness)\n",
      "\u001b[1;31mKeyboardInterrupt\u001b[0m: "
     ]
    }
   ],
   "source": [
    "import os\n",
    "\n",
    "import cvzone\n",
    "import cv2\n",
    "from cvzone.PoseModule import PoseDetector\n",
    "\n",
    "cap = cv2.VideoCapture(\"Resources/Videos/1.mp4\")\n",
    "cap.set(3,640) # adjust width\n",
    "cap.set(4,480) # adjust height\n",
    "detector = PoseDetector()\n",
    "\n",
    "shirtFolderPath = \"Resources/Shirts\"\n",
    "listShirts = os.listdir(shirtFolderPath)\n",
    "# print(listShirts)\n",
    "fixedRatio = 264 / 192  # widthOfShirt/widthOfPoint11to12\n",
    "shirtRatioHeightWidth = 585 / 440\n",
    "imageNumber = 0\n",
    "imgButtonRight = cv2.imread(\"Resources/button.png\", cv2.IMREAD_UNCHANGED)\n",
    "imgButtonLeft = cv2.flip(imgButtonRight, 1)\n",
    "counterRight = 0\n",
    "counterLeft = 0\n",
    "selectionSpeed = 10\n",
    "\n",
    "while cap.isOpened():\n",
    "    success, img = cap.read()\n",
    "    img = detector.findPose(img)\n",
    "    # img = cv2.flip(img,1)\n",
    "    lmList, bboxInfo = detector.findPosition(img, bboxWithHands=False, draw=False)\n",
    "    if lmList:\n",
    "        # center = bboxInfo[\"center\"]\n",
    "        lm11 = lmList[11][1:3]\n",
    "        lm12 = lmList[12][1:3]\n",
    "        imgShirt = cv2.imread(os.path.join(shirtFolderPath, listShirts[imageNumber]), cv2.IMREAD_UNCHANGED)\n",
    "\n",
    "        widthOfShirt = int((lm11[0] - lm12[0]) * fixedRatio)\n",
    "        print(widthOfShirt)\n",
    "        imgShirt = cv2.resize(imgShirt, (widthOfShirt, int(widthOfShirt * shirtRatioHeightWidth)))\n",
    "        currentScale = (lm11[0] - lm12[0]) / 190\n",
    "        offset = int(44 * currentScale), int(48 * currentScale)\n",
    "\n",
    "        try:\n",
    "            img = cvzone.overlayPNG(img, imgShirt, (lm12[0] - offset[0], lm12[1] - offset[1]))\n",
    "        except:\n",
    "            pass\n",
    "\n",
    "        img = cvzone.overlayPNG(img, imgButtonRight, (1074, 293))\n",
    "        img = cvzone.overlayPNG(img, imgButtonLeft, (72, 293))\n",
    "\n",
    "        if lmList[16][1] < 300:\n",
    "            counterRight += 1\n",
    "            cv2.ellipse(img, (139, 360), (66, 66), 0, 0,\n",
    "                        counterRight * selectionSpeed, (0, 255, 0), 20)\n",
    "            if counterRight * selectionSpeed > 360:\n",
    "                counterRight = 0\n",
    "                if imageNumber < len(listShirts) - 1:\n",
    "                    imageNumber += 1\n",
    "        elif lmList[15][1] > 900:\n",
    "            counterLeft += 1\n",
    "            cv2.ellipse(img, (1138, 360), (66, 66), 0, 0,\n",
    "                        counterLeft * selectionSpeed, (0, 255, 0), 20)\n",
    "            if counterLeft * selectionSpeed > 360:\n",
    "                counterLeft = 0\n",
    "                if imageNumber > 0:\n",
    "                    imageNumber -= 1\n",
    "\n",
    "        else:\n",
    "            counterRight = 0\n",
    "            counterLeft = 0\n",
    "\n",
    "    cv2.imshow(\"Image\", img)\n",
    "    cv2.waitKey(1)"
   ]
  },
  {
   "cell_type": "code",
   "execution_count": null,
   "id": "1d368a75",
   "metadata": {},
   "outputs": [],
   "source": []
  }
 ],
 "metadata": {
  "kernelspec": {
   "display_name": "Python 3",
   "language": "python",
   "name": "python3"
  },
  "language_info": {
   "codemirror_mode": {
    "name": "ipython",
    "version": 3
   },
   "file_extension": ".py",
   "mimetype": "text/x-python",
   "name": "python",
   "nbconvert_exporter": "python",
   "pygments_lexer": "ipython3",
   "version": "3.8.8"
  }
 },
 "nbformat": 4,
 "nbformat_minor": 5
}
=======
import os

import cvzone
import cv2
from cvzone.PoseModule import PoseDetector

cap = cv2.VideoCapture("Resources/Videos/1.mp4")
cap.set(3,640) # adjust width
cap.set(4,480) # adjust height
detector = PoseDetector()

shirtFolderPath = "Resources/Shirts"
listShirts = os.listdir(shirtFolderPath)
# print(listShirts)
fixedRatio = 264 / 192  # widthOfShirt/widthOfPoint11to12
shirtRatioHeightWidth = 585 / 440
imageNumber = 0
imgButtonRight = cv2.imread("Resources/button.png", cv2.IMREAD_UNCHANGED)
imgButtonLeft = cv2.flip(imgButtonRight, 1)
counterRight = 0
counterLeft = 0
selectionSpeed = 10

while cap.isOpened():
    success, img = cap.read()
    img = detector.findPose(img)
    # img = cv2.flip(img,1)
    lmList, bboxInfo = detector.findPosition(img, bboxWithHands=False, draw=False)
    if lmList:
        # center = bboxInfo["center"]
        lm11 = lmList[11][1:3]
        lm12 = lmList[12][1:3]
        imgShirt = cv2.imread(os.path.join(shirtFolderPath, listShirts[imageNumber]), cv2.IMREAD_UNCHANGED)

        widthOfShirt = int((lm11[0] - lm12[0]) * fixedRatio)
        print(widthOfShirt)
        imgShirt = cv2.resize(imgShirt, (widthOfShirt, int(widthOfShirt * shirtRatioHeightWidth)))
        currentScale = (lm11[0] - lm12[0]) / 190
        offset = int(44 * currentScale), int(48 * currentScale)

        try:
            img = cvzone.overlayPNG(img, imgShirt, (lm12[0] - offset[0], lm12[1] - offset[1]))
        except:
            pass

        img = cvzone.overlayPNG(img, imgButtonRight, (1074, 293))
        img = cvzone.overlayPNG(img, imgButtonLeft, (72, 293))

        if lmList[16][1] < 300:
            counterRight += 1
            cv2.ellipse(img, (139, 360), (66, 66), 0, 0,
                        counterRight * selectionSpeed, (0, 255, 0), 20)
            if counterRight * selectionSpeed > 360:
                counterRight = 0
                if imageNumber < len(listShirts) - 1:
                    imageNumber += 1
        elif lmList[15][1] > 900:
            counterLeft += 1
            cv2.ellipse(img, (1138, 360), (66, 66), 0, 0,
                        counterLeft * selectionSpeed, (0, 255, 0), 20)
            if counterLeft * selectionSpeed > 360:
                counterLeft = 0
                if imageNumber > 0:
                    imageNumber -= 1

        else:
            counterRight = 0
            counterLeft = 0

    cv2.imshow("Image", img)
    cv2.waitKey(1)
>>>>>>> dda1c418199c6b15ad117c567867794e3b66c610
